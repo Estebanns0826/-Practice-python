{
 "cells": [
  {
   "cell_type": "markdown",
   "metadata": {},
   "source": [
    "Nombre: Esteban Ramos Gomez </br>\n",
    "Codigo: 2240939 </br>\n",
    "Tarea 1 - Herramientas computacionales - Especializaciòn en Inteliencia Artificial</br>\n",
    "Correo: esteban.ramos@uao.edu.co </br>\n",
    "Profesor encargado: Sergio Alejandro Cantillo Luna </br>"
   ]
  },
  {
   "cell_type": "markdown",
   "metadata": {},
   "source": [
    "<h2>EJERCICIO #1 </h2>"
   ]
  },
  {
   "cell_type": "markdown",
   "metadata": {},
   "source": [
    "1. Imagina que acabas de abrir una nueva cuenta de ahorros que te ofrece el 6.2 % de interés al año. Estos ahorros debido a intereses, que no se cobran hasta finales de año, se te añaden al balance final de tu cuenta de ahorros. Escribir un programa que comience leyendo la cantidad de dinero depositada en la cuenta de ahorros, introducida por el usuario. Después el programa debe calcular y mostrar por pantalla la cantidad de ahorros tras el primer, segundo, y tercer año."
   ]
  },
  {
   "cell_type": "code",
   "execution_count": 21,
   "metadata": {},
   "outputs": [
    {
     "name": "stdout",
     "output_type": "stream",
     "text": [
      "Hola, bienvenido al banco UAO pro\n",
      "Has ingresado: 1000.0 $ a tu cuenta de banco\n",
      "Después de 1 año(s), el monto total es: 1062.0\n",
      "Después de 2 año(s), el monto total es: 1127.844\n",
      "Después de 3 año(s), el monto total es: 1197.770328\n"
     ]
    }
   ],
   "source": [
    "print(\"Hola, bienvenido al banco UAO pro\")\n",
    "dinero_depositado = float(input(\"Ingresa el dinero depositado: \"))\n",
    "print(\"Has ingresado: \" + str(dinero_depositado) + \" $ a tu cuenta de banco\")\n",
    "cuota_interes = 0.062  # cuota del 6.2%\n",
    "anios = 3  # 3 años que indica el problema\n",
    "\n",
    "for i in range(anios):\n",
    "    calculo_interes = dinero_depositado * (1 + cuota_interes)\n",
    "    dinero_depositado = calculo_interes  \n",
    "    print(\"Después de\", i+1, \"año(s), el monto total es:\", calculo_interes)\n"
   ]
  },
  {
   "cell_type": "markdown",
   "metadata": {},
   "source": [
    "<h2>EJERCICIO 2 </H2>\n",
    "\n",
    "Escriba un programa que lea un entero positivo, n, del usuario y luego muestre la suma de todos los\n",
    "enteros del 1 al n. La suma de los primeros n enteros positivos se puede calcular mediante la fórmula:\n",
    "sum =\n",
    "(n)(n + 1)/2"
   ]
  },
  {
   "cell_type": "code",
   "execution_count": 58,
   "metadata": {},
   "outputs": [
    {
     "name": "stdout",
     "output_type": "stream",
     "text": [
      "Debes escribir un número entero positivo válido.\n",
      "Ha ingresado el numero : 10\n",
      "el resultado de la suma del 1 al 10 es igual a : 55.0\n"
     ]
    }
   ],
   "source": [
    "numero_entero = 0  \n",
    "\n",
    "def sumatoria_numero (num):\n",
    "\n",
    "    resultado = 0\n",
    "    formula = 0\n",
    "    formula = ((num)*(num+1))/2\n",
    "    resultado += formula\n",
    "    return print(\"el resultado de la suma del 1 al \" +str(num) + \" es igual a : \"+ str(resultado))\n",
    "\n",
    "while True:\n",
    "    numero = input(\"Escribe un número entero positivo: \")\n",
    "    if numero.isdigit():  \n",
    "        numero_entero = int(numero)\n",
    "        if numero_entero > 0:  \n",
    "            break\n",
    "    print(\"Debes escribir un número entero positivo válido.\")\n",
    "\n",
    "print(\"Ha ingresado el numero : \" + str(numero_entero))\n",
    "num = numero_entero\n",
    "sumatoria_numero(num)\n"
   ]
  },
  {
   "cell_type": "markdown",
   "metadata": {},
   "source": [
    "<h1> EJERCICIO 3 </h1>\n",
    "\n",
    "Escriba un programa que reciba como entrada las longitudes de los dos catetos a y b de un triángulo\n",
    "rectángulo, y que entregue como salida el largo de la hipotenusa c del triángulo, dado por el teorema de\n",
    "Pitágoras: c2 = a2 + b2"
   ]
  },
  {
   "cell_type": "code",
   "execution_count": 65,
   "metadata": {},
   "outputs": [
    {
     "name": "stdout",
     "output_type": "stream",
     "text": [
      "La hipotenusa del triangulo de lado A = 9 y de lado B = 9 es igual a H = 12.727922061357855\n"
     ]
    }
   ],
   "source": [
    "import math as math\n",
    "\n",
    "def calcular_pitagoras ():\n",
    "    a = input(\"Ingresa el lado A del triangulo\")\n",
    "    b = input(\"Ingresa el lado B del triangulo\")\n",
    "    a_float = float(a)\n",
    "    b_float = float(b)\n",
    "    hipotenusa = 0\n",
    "    hipotenusa = math.sqrt(a_float**2 + b_float**2)\n",
    "    return print(\"La hipotenusa del triangulo de lado A = \" + str(a) + \" y de lado B = \"+ str(b)+ \" es igual a H = \" + str(hipotenusa))\n",
    "\n",
    "calcular_pitagoras()"
   ]
  },
  {
   "cell_type": "markdown",
   "metadata": {},
   "source": [
    "<h1> EJERCICIO 4 </h1>\n",
    "\n",
    "Cree un programa que determine qué tan rápido viaja un objeto cuando golpea el suelo. El usuario\n",
    "ingresará la altura desde la cual se deja caer el objeto en metros (m). Debido a que el objeto se deja caer,\n",
    "su velocidad inicial\n",
    "es 0m/s. Suponga que la aceleración de la gravedad es de 9, 8m/s2 . Puede usar la\n",
    "q\n",
    "fórmula vf = vi2 + 2ad para calcular la velocidad final, vf , cuando se conocen la velocidad inicial, vi ,\n",
    "la aceleración a, y la distancia d."
   ]
  },
  {
   "cell_type": "code",
   "execution_count": 77,
   "metadata": {},
   "outputs": [
    {
     "name": "stdout",
     "output_type": "stream",
     "text": [
      "La velocidad final del objeto es de: 31.304951684997057 m/s\n"
     ]
    }
   ],
   "source": [
    "import math as math\n",
    "\n",
    "\n",
    "\n",
    "def pedir_datos_usuario():\n",
    "    altura = float(input(\"Ingrese la altura H en (m): \"))\n",
    "    return altura\n",
    "\n",
    "def calculo_velocidad_final(altura):\n",
    "    velocidad_inicial = 0\n",
    "    aceleracion_gravedad = 9.8\n",
    "    velocidad_final = math.sqrt((velocidad_inicial ** 2) + (2 * aceleracion_gravedad * altura))\n",
    "    print(\"La velocidad final del objeto es de: \" + str(velocidad_final) + \" m/s\")\n",
    "\n",
    "altura = pedir_datos_usuario()\n",
    "calculo_velocidad_final(altura)\n",
    "\n",
    "\n",
    "\n",
    "\n",
    "    "
   ]
  },
  {
   "cell_type": "markdown",
   "metadata": {},
   "source": [
    "<h1> ESTRUCTURAS CONDICIONALES </h1>\n",
    "<h2> EJERCICIO 1</h1>\n",
    "\n",
    "1. El año se divide en cuatro estaciones: primavera, verano, otoño e invierno. Si bien las fechas exactas en\n",
    "que cambian las estaciones varı́an un poco de un año a otro debido a la forma en que se construye el\n",
    "calendario, usaremos las siguientes fechas para este ejercicio:\n",
    "Estacion\n",
    "Primavera\n",
    "Verano\n",
    "Otoño\n",
    "Invierno\n",
    "Primer Dia\n",
    "20 de Marzo\n",
    "21 de Junio\n",
    "22 de Septiembre\n",
    "21 de Diciembre\n",
    "Cree un programa que lea un mes y un dı́a del usuario. El usuario ingresará el nombre del mes como\n",
    "una cadena (String), seguido del dı́a dentro del mes como un número entero. Luego, su programa deberı́a\n",
    "mostrar la temporada asociada con la fecha que se ingresó.\n",
    "\n"
   ]
  },
  {
   "cell_type": "code",
   "execution_count": 137,
   "metadata": {},
   "outputs": [
    {
     "name": "stdout",
     "output_type": "stream",
     "text": [
      "El 3 del mes de enero es invierno\n"
     ]
    }
   ],
   "source": [
    "\n",
    "while True:\n",
    "    dia = 0\n",
    "    mes = str(input(\"Ingresa el mes: \"))\n",
    "    if mes.lower() not in [\"enero\", \"febrero\", \"marzo\", \"abril\", \"mayo\", \"junio\", \"julio\", \"agosto\", \"septiembre\", \"octubre\", \"noviembre\", \"diciembre\"]:\n",
    "        print(\"Ingresaste un nombre de mes inválido ->\", mes, \"No es un nombre de mes válido\")\n",
    "    else:\n",
    "        break\n",
    "\n",
    "while True:\n",
    "    dia = 0\n",
    "    dia = (int(input(\"Ingresa el dia del mes\")))\n",
    "    if (dia >= 32 or dia <= 0):\n",
    "        print(\"Ingresaste un valor para el dia incorreto\")\n",
    "\n",
    "    else:\n",
    "        break\n",
    "\n",
    "\n",
    "def idenficador_primavera (mes):\n",
    "    if (mes == \"abril\" or mes == \"mayo\"):\n",
    "        print(\"El \" +str(dia) + \" del mes de \" +str(mes) + \"es primavera\")\n",
    "    elif (mes == \"marzo\" and dia >= 20):\n",
    "        print(\"El \" +str(dia) + \" del mes de \" +str(mes) + \" es primavera\")\n",
    "        \n",
    "    elif (mes == \"junio2\" and dia < 21):\n",
    "        print(\"El \" +str(dia) + \" del mes de \" +str(mes) + \" es primavera\")\n",
    "        \n",
    "    \n",
    "def idenficador_verano (mes):\n",
    "    if (mes == \"julio\" or mes == \"agosto\"):\n",
    "        print(\"El \" +str(dia) + \" del mes de \" +str(mes) + \" es verano\")\n",
    "\n",
    "    elif (mes == \"junio\" and dia >= 21):\n",
    "        print(\"El \" +str(dia) + \" del mes de \" +str(mes) + \" es verano\")\n",
    "        \n",
    "    elif (mes == \"septiembre\" and dia < 22):\n",
    "        print(\"El \" +str(dia) + \" del mes de \" +str(mes) + \" es verano\")\n",
    "\n",
    "\n",
    "def idenficador_otono (mes):\n",
    "    if (mes == \"octubre\" or mes == \"noviembre\"):\n",
    "        print(\"El \" +str(dia) + \" del mes de \" +str(mes) + \" es otoño\")\n",
    "\n",
    "    elif (mes == \"septiembre\" and dia >= 21):\n",
    "        print(\"El \" +str(dia) + \" del mes de \" +str(mes) + \" es otoño\")\n",
    "        \n",
    "    elif (mes == \"diciembre\" and dia < 21):\n",
    "        print(\"El \" +str(dia) + \" del mes de \" +str(mes) + \" es otoño\")\n",
    "\n",
    "\n",
    "def idenficador_invierno (mes):\n",
    "    if (mes == \"enero\" or mes == \"febrero\"):\n",
    "        print(\"El \" +str(dia) + \" del mes de \" +str(mes) + \" es invierno\")\n",
    "\n",
    "    elif (mes == \"diciembre\" and dia >= 21):\n",
    "        print(\"El \" +str(dia) + \" del mes de \" +str(mes) + \" es invierno\")\n",
    "        \n",
    "    elif (mes == \"marzo\" and dia < 20):\n",
    "        print(\"El \" +str(dia) + \" del mes de \" +str(mes) + \" es invierno\")\n",
    "\n",
    "\n",
    "idenficador_primavera(mes)\n",
    "idenficador_verano(mes)\n",
    "idenficador_otono(mes)\n",
    "idenficador_invierno(mes)\n",
    "\n"
   ]
  },
  {
   "cell_type": "markdown",
   "metadata": {},
   "source": [
    "<h2> EJERCICIO 2 </h2>\n",
    "\n",
    "Realice un programa que simule una calculadora básica, este puede realizar operación de suma, resta,\n",
    "multiplicación y división. El programa debe recibir como entrada 2 números reales y un operador, que\n",
    "puede ser +, −, ∗, /. La salida del programa debe ser el resultado de la operación."
   ]
  },
  {
   "cell_type": "code",
   "execution_count": 1,
   "metadata": {},
   "outputs": [
    {
     "name": "stdout",
     "output_type": "stream",
     "text": [
      "Bienvenido a la calculadora de Esteban\n"
     ]
    },
    {
     "name": "stdout",
     "output_type": "stream",
     "text": [
      "Ha ingresado como valor de A: 2.0\n",
      "Ha ingresado como valor de B: 3.0\n",
      "La multiplicación de los dos números es: 6.0\n"
     ]
    }
   ],
   "source": [
    "class Calculadora:\n",
    "    def __init__(self, numero_a, numero_b):\n",
    "        self.numero_a =  numero_a\n",
    "        self.numero_b = numero_b\n",
    "\n",
    "    def multiplicar(self, numero_a, numero_b):\n",
    "        resultado_multiplicacion = numero_a * numero_b\n",
    "        print(\"La multiplicación de los dos números es:\", resultado_multiplicacion)\n",
    "    \n",
    "    def dividir(self, numero_a, numero_b):\n",
    "        if numero_b == 0:\n",
    "            print(\"No se puede dividir entre cero.\")\n",
    "        else:\n",
    "            resultado_division = numero_a / numero_b\n",
    "            print(\"La división de los dos números es:\", resultado_division)\n",
    "\n",
    "    def sumar(self, numero_a, numero_b):\n",
    "        resultado_suma = numero_a + numero_b\n",
    "        print(\"La suma de los dos números es:\", resultado_suma)\n",
    "    \n",
    "    def resta(self, numero_a, numero_b):\n",
    "        resultado_resta = numero_a - numero_b\n",
    "        print(\"La resta de los dos números es:\", resultado_resta)\n",
    "    \n",
    "    def set_numero_a(self, nuevo_numero_a):\n",
    "        self.numero_a = nuevo_numero_a\n",
    "\n",
    "    def set_numero_b(self, nuevo_numero_b):\n",
    "        self.numero_b = nuevo_numero_b\n",
    "\n",
    "    def get_numero_a(self):\n",
    "        return self.numero_a\n",
    "    \n",
    "    def get_numero_b(self):\n",
    "        return self.numero_b\n",
    "\n",
    "esteban_usa_calculadora = Calculadora(0, 0)\n",
    "\n",
    "print(\"Bienvenido a la calculadora de Esteban\")\n",
    "\n",
    "while True:\n",
    "    try:\n",
    "     numero_validar_a = esteban_usa_calculadora.set_numero_a(float(input(\"Ingresa el valor de A: \")))\n",
    "     break\n",
    "\n",
    "    except ValueError:\n",
    "        print(\"Ese valor no es valido, intenta de nuevo\")\n",
    "\n",
    "\n",
    "while True:\n",
    "    try:\n",
    "        numero_validar_b = esteban_usa_calculadora.set_numero_b(float(input(\"Ingresa el valor de B: \")))\n",
    "        break\n",
    "    except ValueError:\n",
    "        print(\"Ese valor no es válido, intenta de nuevo\")\n",
    "\n",
    "\n",
    "print(\"Ha ingresado como valor de A:\", esteban_usa_calculadora.get_numero_a())\n",
    "print(\"Ha ingresado como valor de B:\", esteban_usa_calculadora.get_numero_b())\n",
    "\n",
    "while True:\n",
    "    to_do = input(\"Ingresa el símbolo de la operación que deseas realizar (+, -, *, /): \")\n",
    "    if to_do not in [\"+\", \"-\", \"*\", \"/\"]:\n",
    "        print(\"Escribe el símbolo de operación correcto.\")\n",
    "    else:\n",
    "        break\n",
    "\n",
    "if to_do == \"+\":\n",
    "    esteban_usa_calculadora.sumar(esteban_usa_calculadora.get_numero_a(), esteban_usa_calculadora.get_numero_b())\n",
    "\n",
    "elif to_do == \"-\":\n",
    "    esteban_usa_calculadora.resta(esteban_usa_calculadora.get_numero_a(), esteban_usa_calculadora.get_numero_b())\n",
    "\n",
    "elif to_do == \"*\":\n",
    "    esteban_usa_calculadora.multiplicar(esteban_usa_calculadora.get_numero_a(), esteban_usa_calculadora.get_numero_b())\n",
    "\n",
    "elif to_do == \"/\":\n",
    "    esteban_usa_calculadora.dividir(esteban_usa_calculadora.get_numero_a(), esteban_usa_calculadora.get_numero_b())"
   ]
  },
  {
   "cell_type": "markdown",
   "metadata": {},
   "source": [
    "<h1> CICLOS </h1> \n",
    "\n",
    "<h2> EJERCICIO 1 </h2>\n",
    "\n",
    "Una palabra o frase es un palı́ndromo si es idéntica hacia adelante y hacia atrás. Por ejemplo, anna,\n",
    "civic, level y hannah son ejemplos de palabras palindrómicas. Escriba un programa que lea una cadena\n",
    "(String) del usuario y use un bucle (ciclo) para determinar si es o no un palı́ndromo. Muestre el resultado,\n",
    "incluido un mensaje de salida significativo."
   ]
  },
  {
   "cell_type": "code",
   "execution_count": 39,
   "metadata": {},
   "outputs": [
    {
     "name": "stdout",
     "output_type": "stream",
     "text": [
      "Has escrito la palabra : \n",
      "['e']\n",
      "ESta palabra tiene : 1 letras\n",
      "e\n",
      "['e']\n",
      "La palabra escrita (SII) es un palindromo\n"
     ]
    }
   ],
   "source": [
    "def palindromo (palabra):\n",
    "    count = 0\n",
    "    lista_reversed = []\n",
    "    palabra = list(palabra)\n",
    "    print(\"Has escrito la palabra : \")\n",
    "    print(palabra)\n",
    "\n",
    "    tamano = len(palabra)\n",
    "    print(\"ESta palabra tiene : \" + str(tamano)+ \" letras\" )\n",
    "\n",
    "    \n",
    "    for x_real in palabra:\n",
    "        \n",
    "        print(x_real)\n",
    "        \n",
    "    for x_reversed in reversed(palabra):\n",
    "        count += 1\n",
    "        lista_reversed.append(x_reversed)\n",
    "        print(lista_reversed)\n",
    "\n",
    "\n",
    "\n",
    "    if lista_reversed == palabra:\n",
    "        print (\"La palabra escrita (SII) es un palindromo\")\n",
    "    else:\n",
    "        print(\"La palaba escrita (NOO) es un palindrimo\")\n",
    "\n",
    "while True:\n",
    "    try:\n",
    "        palabra = str(input(\"Escribe la palabra para saber si es un palíndromo: \"))\n",
    "        break\n",
    "    except ValueError:\n",
    "        print(\"Solo se permiten valores tipo STRING\")\n",
    "\n",
    "palindromo (palabra)\n",
    "\n",
    "\n"
   ]
  },
  {
   "cell_type": "markdown",
   "metadata": {},
   "source": [
    "<h1>EJERCICIO 2 </h1>\n",
    "2. Escriba un programa que pida al usuario cuantos terminos de la serie Fibonacci desea ver, y luego entregue\n",
    "dichos términos en pantalla. La serie fibonacci presenta la siguiente ecuación:\n",
    "Fn = Fn−1 + Fn−2 , donde F0 = 0 y F1 = 1"
   ]
  },
  {
   "cell_type": "code",
   "execution_count": 52,
   "metadata": {},
   "outputs": [
    {
     "name": "stdout",
     "output_type": "stream",
     "text": [
      "has ingresado para F1: 1\n",
      "Has ingresado para F2: 1\n",
      "Perfecto, vamos a mostrar 10 parametros con los numeros 1 y 1\n",
      "[1, 1, 2, 3, 5, 8, 13, 21, 34, 55]\n"
     ]
    }
   ],
   "source": [
    "def serie_fibonacci(f1, f2, repeticiones):\n",
    "    result_fibonacci = [f1, f2]\n",
    "    for _ in range(repeticiones - 2):\n",
    "        siguiente = result_fibonacci[-1] + result_fibonacci[-2]\n",
    "        result_fibonacci.append(siguiente)\n",
    "    return result_fibonacci\n",
    "\n",
    "def pedir_datos():\n",
    "    while True:\n",
    "        try:\n",
    "            f1 = int(input(\"Ingresa el F1 para el numero: \"))\n",
    "            print(\"has ingresado para F1: \" + str(f1))\n",
    "            f2 = int(input(\"Ingresa el F2 para el numero: \"))\n",
    "            print(\"Has ingresado para F2: \" + str(f2))\n",
    "            repeticiones = int(input(\"Cuantos parametros deseas ver: \"))\n",
    "            print(\"Perfecto, vamos a mostrar \" + str(repeticiones) + \" parametros con los numeros \" + str(f1) + \" y \" + str(f2))\n",
    "            return f1, f2, repeticiones\n",
    "        except ValueError:\n",
    "            print(\"Ingrese un valor numerico.\")\n",
    "\n",
    "f1, f2, repeticiones = pedir_datos()\n",
    "resultado = serie_fibonacci(f1, f2, repeticiones)\n",
    "print(resultado)\n"
   ]
  },
  {
   "cell_type": "markdown",
   "metadata": {},
   "source": [
    "<h1>FUNCIONES</h1>\n",
    "<h2>EJERCICIO 1</h2>\n",
    "\n",
    "Escribe una función llamada ordenaPositivos(lista), que dada una lista de números enteros, devuelva una\n",
    "nueva lista con los números positivos ordenados de menor a mayor, y mantenga los números negativos en\n",
    "la misma posición que la lista original.\n",
    "Consideraciones a tener en cuenta:\n",
    "Si se pasa como argumento una lista vacı́a, la función retornará una lista vacı́a.\n",
    "El número 0 no se tendrá en cuenta al ordenar.\n",
    "Pista: hay varias formas de hacerlo, pueden revisar como utilizar las funciones iter y sorted para su\n",
    "desarrollo.\n",
    "Ejemplos:\n",
    "ordenaPositivos([6, 3, -2, 5, -8, 2, -2]) = [2, 3, -2, 5, -8, 6, -2]\n",
    "ordenaPositivos([6, 5, 4, -1, 3, 2, -1, 1]) = [1, 2, 3, -1, 4, 5, -1, 6]\n",
    "ordenaPositivos([-5, -5, -5, -5,"
   ]
  },
  {
   "cell_type": "code",
   "execution_count": 128,
   "metadata": {},
   "outputs": [
    {
     "name": "stdout",
     "output_type": "stream",
     "text": [
      "Has ingresado 0 valores a la lista de numeros\n",
      "La lista que has ingresado es la siguiente : []\n",
      "Lista ordenada con positivos: []\n"
     ]
    }
   ],
   "source": [
    "def ordenaPositivo(): \n",
    "    while True:\n",
    "        try:\n",
    "            entrada = input(\"Ingresa la lista de numeros separados por comas o espacios: \")\n",
    "            lista_numeros = [x.strip() for x in entrada.replace(\",\", \" \").split()]  \n",
    "\n",
    "            tamano_lista = len(lista_numeros)\n",
    "            print(\"Has ingresado \" + str(tamano_lista) + \" valores a la lista de numeros\") \n",
    "        \n",
    "            hay_valores_no_numericos = False\n",
    "        \n",
    "            for x in lista_numeros:\n",
    "                if not x.replace('.', '', 1).replace('-', '', 1).isdigit():\n",
    "                    hay_valores_no_numericos = True\n",
    "                    break\n",
    "\n",
    "            if hay_valores_no_numericos:\n",
    "                print(\"Ingresa valores numericos. Mira lo que ingresaste:\", lista_numeros)\n",
    "                continue\n",
    "            \n",
    "            print(\"La lista que has ingresado es la siguiente :\", (lista_numeros))\n",
    "        \n",
    "            positivos = [float(num) for num in lista_numeros if float(num) > 0]\n",
    "            positivos.sort()\n",
    "        \n",
    "            resultado = []\n",
    "            indice = 0\n",
    "            for num in lista_numeros:\n",
    "                if float(num) <= 0:\n",
    "                    resultado.append(float(num))\n",
    "                else:\n",
    "                    resultado.append(positivos[indice])\n",
    "                    indice += 1\n",
    "                \n",
    "            return resultado\n",
    "\n",
    "        except ValueError:\n",
    "            print(\"Has ingresado un valor muy extraño, revisa\", (lista_numeros))\n",
    "            break\n",
    "\n",
    "resultado = ordenaPositivo()\n",
    "print(\"Lista ordenada con positivos:\", resultado)\n"
   ]
  },
  {
   "cell_type": "markdown",
   "metadata": {},
   "source": [
    "<h2>EJERCICIO 2 </h2>\n",
    "\n",
    "Escriba una función esBisiesto() que determine si un año determinado es un año bisiesto. Un año bisiesto\n",
    "es divisible por 4, pero no por 100. También es divisible por 400."
   ]
  },
  {
   "cell_type": "code",
   "execution_count": 137,
   "metadata": {},
   "outputs": [
    {
     "name": "stdout",
     "output_type": "stream",
     "text": [
      "Ingresa un valor corecto y acorde a un año\n",
      "el año 2024  es bisiesto\n"
     ]
    },
    {
     "data": {
      "text/plain": [
       "True"
      ]
     },
     "execution_count": 137,
     "metadata": {},
     "output_type": "execute_result"
    }
   ],
   "source": [
    "while True:\n",
    "    try:\n",
    "        anio_this = int(input(\"Ingresa el año\"))\n",
    "        break\n",
    "            \n",
    "\n",
    "    except ValueError:\n",
    "            print(\"Ingresa un valor corecto y acorde a un año\")\n",
    "            \n",
    "\n",
    "  \n",
    "  \n",
    "def esBisiesto(anio_this):\n",
    "    if (anio_this % 4 == 0) and ((anio_this % 100 != 0) or (anio_this % 400 == 0)):\n",
    "        print(\"el año \" + str(anio_this) + \"  es bisiesto\")\n",
    "        return True\n",
    "    else:\n",
    "        print(\"el año \" + str(anio_this) + \" no es bisiesto\")\n",
    "        return False\n",
    "\n",
    "\n",
    "esBisiesto(anio_this)\n",
    "     \n",
    "     "
   ]
  },
  {
   "cell_type": "code",
   "execution_count": 138,
   "metadata": {},
   "outputs": [
    {
     "name": "stdout",
     "output_type": "stream",
     "text": [
      "He terminado la tares y el siguiente apartado es un pequeño resumen de lo aprenddido\n"
     ]
    }
   ],
   "source": [
    "print(\"He terminado la tares y el siguiente apartado es un pequeño resumen de lo aprenddido\")"
   ]
  },
  {
   "cell_type": "markdown",
   "metadata": {},
   "source": [
    "<H1> CONCLUCIONES Y APRENDIDO </H1>\n",
    "\n",
    "* Uso de input(\"Ingrese el valor correspondiente\")\n",
    "\n",
    "* Operaciones aritmeticas y matematias mediante import math as math\n",
    "* uso de try: y caption valueError para dar consistencia al los programas\n",
    "* uso de funciòn sorted para ordenar listas de menor mayor\n",
    "* Uso de clases y metodos, aprendi  utilizar la clase calculadora, incorporar metodos y un objeto como esteban puede usar\n",
    "los metodos de la calculadora para sumar, restar, dividir o multiplicar\n",
    "*  funciòn strip me ayudo a eliminar espacios en las PROMT proporcionadas por el usuario para evitar errores\n",
    "* la funciòn isdigit me ayudo a verifiacar las str(input(\"ingresa un numero\")) a verificar si es un digito numerico sin importar\n",
    "que sea un dato str\n",
    "* la funcciòn append me ayudo a añadir nuevos elementos en las filas de las listas\n",
    "* el uso de if y elif me permitio simular un switch case de java para menus de comandos como en la calculadora\n",
    "me permitio elegir entre (+,-,*,/)\n",
    "* USO DE GetNumero y SetNUmero para la calculadora para usar metodos Getters y Setter -> aprendido en clase\n",
    "\n",
    "<h2> WEBGRAFIA </h2>\n",
    "\n",
    "* OPERADORES LOGICOS: https://platzi.com/tutoriales/4227-python/24306-operadores-logicos-and-or-not/\n",
    "* SUCECCION FIBUNACCI: https://www2.ual.es/jardinmatema/sucesion-de-fibonacci/\n",
    "* ELIMINAR ESPACIOS EN INPUT: https://j2logo.com/eliminar-espacios-en-blanco-string-strip-python/\n",
    "* USO Y MANEJO DE LISTAS: https://platzi.com/tutoriales/4227-python/24292-omo-agregar-modificar-y-eliminar-elementos-de-listas-en-python/\n",
    "* FUNCIÒN LEN: https://www.freecodecamp.org/espanol/news/la-funcion-length-en-python-como-averiguar-el-tamano-de-una-lista/\n",
    "* ORDENAR LISTA EN REVERSO: https://es.stackoverflow.com/questions/146070/c%C3%B3mo-puedo-recorrer-una-lista-en-orden-inverso\n",
    "* RECORRER LISTA EN PYTHON: https://www.delftstack.com/es/howto/python/python-loop-through-list/#google_vignette\n",
    "* COMO SABER SI UN NUMERO ES DECIMAL: https://es.quora.com/C%C3%B3mo-saber-si-un-n%C3%BAmero-es-entero-o-decimal-en-Python\n",
    "* CALCULADORA AÑO BISIESTO: https://calculado.net/calculadora-de-ano-bisiesto\n",
    "* USO REPLACE PYTHON: https://j2logo.com/string-replace-python/\n",
    "* SETTER Y GETTER EN PYTHON: https://pywombat.com/articles/getters-and-setters-python"
   ]
  }
 ],
 "metadata": {
  "kernelspec": {
   "display_name": "Python 3",
   "language": "python",
   "name": "python3"
  },
  "language_info": {
   "codemirror_mode": {
    "name": "ipython",
    "version": 3
   },
   "file_extension": ".py",
   "mimetype": "text/x-python",
   "name": "python",
   "nbconvert_exporter": "python",
   "pygments_lexer": "ipython3",
   "version": "3.10.12"
  }
 },
 "nbformat": 4,
 "nbformat_minor": 2
}
